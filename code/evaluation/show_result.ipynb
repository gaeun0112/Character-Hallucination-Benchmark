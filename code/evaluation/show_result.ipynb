{
 "cells": [
  {
   "cell_type": "code",
   "execution_count": 76,
   "id": "dcb94ad5",
   "metadata": {},
   "outputs": [],
   "source": [
    "import os\n",
    "import json\n",
    "import pandas as pd\n",
    "from sklearn.metrics import accuracy_score\n",
    "\n",
    "def compute_accuracy_per_file(input_data):\n",
    "\n",
    "    y_true = []\n",
    "    y_pred = []\n",
    "\n",
    "    for item in input_data:\n",
    "        true_label = str(item.get(\"True Label\")).strip()\n",
    "        model_answer = str(item.get(\"model_answer_number\")).strip()\n",
    "        y_true.append(true_label)\n",
    "        y_pred.append(model_answer)\n",
    "\n",
    "    acc = accuracy_score(y_true, y_pred)\n",
    "    correct = sum([yt == yp for yt, yp in zip(y_true, y_pred)])\n",
    "    total = len(y_true)\n",
    "    summary = {\n",
    "        \"accuracy\": round(acc * 100, 2),\n",
    "        \"correct\": correct,\n",
    "        \"total\": total\n",
    "    }\n",
    "\n",
    "    return summary"
   ]
  },
  {
   "cell_type": "code",
   "execution_count": 77,
   "id": "990b9ac1",
   "metadata": {},
   "outputs": [],
   "source": [
    "import json\n",
    "import re\n",
    "from pathlib import Path\n",
    "\n",
    "folder_name = \"['no_context']\"\n",
    "# folder_name = \"['birth']\"\n",
    "# folder_name = \"['Nationality']\"\n",
    "# folder_name = \"['Summary']\"\n",
    "# folder_name = \"['birth', 'Nationality']\"\n",
    "# folder_name = \"['birth', 'Summary']\"\n",
    "# folder_name = \"['Nationality', 'Summary']\"\n",
    "# folder_name = \"['birth', 'Nationality', 'Summary']\"\n",
    "\n",
    "\n",
    "# \"EXAONE-3.5-7.8B-Instruct\"\n",
    "# \"EXAONE-3.0-7.8B-Instruct\"\n",
    "# \"Llama-3.1-8B-Instruct\"\n",
    "# \"Mistral-Nemo-Instruct-2407\"\n",
    "# \"gpt-4o\"\n",
    "# gpt-3.5-turbo-0125\n",
    "model_name = \"gpt-4o\"\n",
    "mode = \"version3\"\n",
    "base_path = Path('../../data/prediction_data/gpt-4o') / folder_name\n",
    "base_path = Path(f'../../data/prediction_data/{model_name}_test_data_sample_{mode}') / folder_name\n",
    "base_path = Path(f'../../data/prediction_data/{model_name}_test_data_fin_korea') / folder_name\n",
    "\n",
    "# JSON 파일 이름에서 특정 키워드 추출\n",
    "keywords = []\n",
    "pattern = re.compile(r'(cultural|cross|fact|temporal)')\n",
    "\n",
    "data_dict = {}\n",
    "for json_file in base_path.glob('*.json'):\n",
    "    match = pattern.search(json_file.name)\n",
    "    with open(json_file, 'r', encoding='utf-8') as f:\n",
    "        data = json.load(f)\n",
    "        data_dict[match.group(1)] = data\n",
    "\n"
   ]
  },
  {
   "cell_type": "code",
   "execution_count": 78,
   "id": "113125b7",
   "metadata": {},
   "outputs": [],
   "source": [
    "with open('../../data/source_data/meta_character.json', 'r', encoding='utf-8') as f:\n",
    "    character_info = json.load(f)"
   ]
  },
  {
   "cell_type": "code",
   "execution_count": 79,
   "id": "70c52f87",
   "metadata": {},
   "outputs": [],
   "source": [
    "result_dict = {}\n",
    "\n",
    "for question_type in data_dict:\n",
    "    result_dict[question_type] = {}\n",
    "\n",
    "    for country in data_dict[question_type]:\n",
    "        result_dict[question_type][country] = {}\n",
    "        for character in data_dict[question_type][country]:\n",
    "            result_dict[question_type][country][character] = compute_accuracy_per_file(data_dict[question_type][country][character])"
   ]
  },
  {
   "cell_type": "code",
   "execution_count": 80,
   "id": "635c86f5",
   "metadata": {},
   "outputs": [
    {
     "name": "stdout",
     "output_type": "stream",
     "text": [
      "cultural : korea : {'Oh Ae-sun': {'accuracy': 67.5, 'correct': 27, 'total': 40}, 'Lee Gi-yeong': {'accuracy': 65.0, 'correct': 26, 'total': 40}}\n",
      "cross : korea : {'Lee Gi-yeong': {'accuracy': 25.0, 'correct': 1, 'total': 4}, 'Sejong': {'accuracy': 75.0, 'correct': 3, 'total': 4}, 'Yi Sun-sin': {'accuracy': 25.0, 'correct': 1, 'total': 4}, 'Heungbu': {'accuracy': 25.0, 'correct': 1, 'total': 4}}\n"
     ]
    }
   ],
   "source": [
    "# 정확도 계산 (기존 코드와 동일)\n",
    "average_accuracies = {}\n",
    "for q_type, countries in result_dict.items():\n",
    "    average_accuracies[q_type] = {}\n",
    "    for country, characters in countries.items():\n",
    "        accuracies = [char_data['accuracy'] for char_data in characters.values()]\n",
    "        print(f\"{q_type} : {country} : {characters}\")\n",
    "        avg_accuracy = sum(accuracies) / len(accuracies) if accuracies else 0\n",
    "        average_accuracies[q_type][country] = round(avg_accuracy, 2)\n",
    "\n",
    "# 데이터프레임 변환 및 평균 추가\n",
    "df = pd.DataFrame(average_accuracies).T\n",
    "df['Average'] = df.mean(axis=1).round(2)\n",
    "df.loc['Average'] = df.mean(axis=0).round(2)"
   ]
  },
  {
   "cell_type": "code",
   "execution_count": 81,
   "id": "d05a301a",
   "metadata": {},
   "outputs": [
    {
     "name": "stdout",
     "output_type": "stream",
     "text": [
      "| Question Type | korea | Average |\n",
      "|---|---|---|\n",
      "| cross | 37.50 | 37.50 |\n",
      "| cultural | 66.25 | 66.25 |\n",
      "| Average | 51.88 | 51.88 |\n"
     ]
    }
   ],
   "source": [
    "# 정렬된 country 리스트\n",
    "all_countries = sorted({country for q in average_accuracies.values() for country in q})\n",
    "\n",
    "# 각 타입별 평균 계산\n",
    "rows = []\n",
    "country_averages = {c: [] for c in all_countries}\n",
    "type_averages = {}\n",
    "\n",
    "for q_type in sorted(average_accuracies):\n",
    "    row = [q_type]\n",
    "    total = 0\n",
    "    count = 0\n",
    "    for country in all_countries:\n",
    "        acc = average_accuracies[q_type].get(country, \"\")\n",
    "        if acc != \"\":\n",
    "            country_averages[country].append(acc)\n",
    "            total += acc\n",
    "            count += 1\n",
    "            row.append(f\"{acc:.2f}\")\n",
    "        else:\n",
    "            row.append(\"\")\n",
    "    type_avg = total / count if count else 0\n",
    "    type_averages[q_type] = round(type_avg, 2)\n",
    "    row.append(f\"{type_avg:.2f}\")\n",
    "    rows.append(row)\n",
    "\n",
    "# 나라별 평균 추가 행\n",
    "avg_row = [\"Average\"]\n",
    "for country in all_countries:\n",
    "    vals = country_averages[country]\n",
    "    avg = sum(vals) / len(vals) if vals else 0\n",
    "    avg_row.append(f\"{avg:.2f}\")\n",
    "avg_row.append(f\"{sum(type_averages.values()) / len(type_averages):.2f}\")\n",
    "rows.append(avg_row)\n",
    "\n",
    "# 마크다운 테이블 구성\n",
    "header = [\"Question Type\"] + all_countries + [\"Average\"]\n",
    "md_lines = [\n",
    "    \"| \" + \" | \".join(header) + \" |\",\n",
    "    \"|---\" * len(header) + \"|\"\n",
    "]\n",
    "for row in rows:\n",
    "    md_lines.append(\"| \" + \" | \".join(row) + \" |\")\n",
    "\n",
    "markdown_table = \"\\n\".join(md_lines)\n",
    "\n",
    "# 출력\n",
    "print(markdown_table)\n"
   ]
  },
  {
   "cell_type": "code",
   "execution_count": null,
   "id": "3fa2c16c",
   "metadata": {},
   "outputs": [],
   "source": []
  },
  {
   "cell_type": "code",
   "execution_count": null,
   "id": "1ee58656",
   "metadata": {},
   "outputs": [],
   "source": []
  }
 ],
 "metadata": {
  "kernelspec": {
   "display_name": "character_hallucination",
   "language": "python",
   "name": "python3"
  },
  "language_info": {
   "codemirror_mode": {
    "name": "ipython",
    "version": 3
   },
   "file_extension": ".py",
   "mimetype": "text/x-python",
   "name": "python",
   "nbconvert_exporter": "python",
   "pygments_lexer": "ipython3",
   "version": "3.12.9"
  }
 },
 "nbformat": 4,
 "nbformat_minor": 5
}
