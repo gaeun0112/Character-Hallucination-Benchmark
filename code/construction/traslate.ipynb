{
 "cells": [
  {
   "cell_type": "code",
   "execution_count": 2,
   "id": "2d8b5d2b",
   "metadata": {},
   "outputs": [
    {
     "name": "stdout",
     "output_type": "stream",
     "text": [
      "번역 결과: 안녕하세요, 오늘 어떻게 지내고 계신가요?\n"
     ]
    }
   ],
   "source": [
    "from openai import OpenAI\n",
    "import yaml\n",
    "\n",
    "def load_config(config_file):\n",
    "    with open(config_file) as file:\n",
    "        config = yaml.safe_load(file)\n",
    "    return config\n",
    "cfg = load_config(\"../../config.yaml\")\n",
    "\n",
    "# OpenAI API client 초기화\n",
    "client = OpenAI(api_key=cfg[\"openai_key\"])\n",
    "\n",
    "\n",
    "# 번역할 영어 문장\n",
    "english_text = \"Hello, how are you doing today?\"\n",
    "\n",
    "# GPT-4o 모델을 사용해 번역 요청\n",
    "response = client.chat.completions.create(\n",
    "    model=\"gpt-4o\",\n",
    "    messages=[\n",
    "        {\"role\": \"system\", \"content\": \"You are a professional translator. Translate English to Korean.\"},\n",
    "        {\"role\": \"user\", \"content\": english_text}\n",
    "    ],\n",
    "    temperature=0.3,\n",
    ")\n",
    "\n",
    "# 번역 결과 출력\n",
    "translated_text = response.choices[0].message.content\n",
    "print(\"번역 결과:\", translated_text)\n"
   ]
  },
  {
   "cell_type": "code",
   "execution_count": 6,
   "id": "bd6690b9",
   "metadata": {},
   "outputs": [],
   "source": [
    "import openai\n",
    "def translate_text(input_text, target_language, openai_key):\n",
    "    client = openai.OpenAI(api_key=openai_key)\n",
    "\n",
    "    system_prompt = f\"You are a professional translator. Translate English to {target_language}.\"\n",
    "\n",
    "    response = client.chat.completions.create(\n",
    "                model=\"gpt-4o\",\n",
    "                messages=[\n",
    "                    {\"role\": \"system\", \"content\": system_prompt},\n",
    "                    {\"role\": \"user\", \"content\": input_text}\n",
    "                ],\n",
    "                temperature=0.3,\n",
    "            )\n",
    "\n",
    "    output_text = response.choices[0].message.content\n",
    "\n",
    "    return output_text"
   ]
  },
  {
   "cell_type": "code",
   "execution_count": 10,
   "id": "f13c72f5",
   "metadata": {},
   "outputs": [
    {
     "data": {
      "text/plain": [
       "\"I'm sorry, but I need the character profile and the question details to provide an answer. Could you please provide that information?\""
      ]
     },
     "execution_count": 10,
     "metadata": {},
     "output_type": "execute_result"
    }
   ],
   "source": [
    "# prompt.txt 파일 번역하기\n",
    "\n",
    "txt_path = \"../../prompt/mc_eval_template_3-shot_div_cot.txt\"\n",
    "\n",
    "with open(txt_path, 'r', encoding='utf-8') as file:\n",
    "    content = file.read()  # 파일 전체 내용을 문자열로 읽기\n",
    "\n",
    "translate_language = \"Korean\"\n",
    "\n",
    "translated_text = translate_text(input_text = content, target_language=translate_language, openai_key = cfg[\"openai_key\"])\n",
    "\n",
    "translated_text"
   ]
  },
  {
   "cell_type": "code",
   "execution_count": 24,
   "id": "ff252f61",
   "metadata": {},
   "outputs": [],
   "source": [
    "input_file_path = '../../data/test_data_fin_korea/cross_mc.json'"
   ]
  },
  {
   "cell_type": "code",
   "execution_count": 25,
   "id": "cde3f366",
   "metadata": {},
   "outputs": [],
   "source": [
    "import json\n",
    "\n",
    "def read_json(path):\n",
    "    with open(path, 'r', encoding='utf-8') as f:\n",
    "        data = json.load(f)\n",
    "    return data"
   ]
  },
  {
   "cell_type": "code",
   "execution_count": 26,
   "id": "f768719d",
   "metadata": {},
   "outputs": [],
   "source": [
    "input_data = read_json(input_file_path)"
   ]
  },
  {
   "cell_type": "code",
   "execution_count": 27,
   "id": "fe222e25",
   "metadata": {},
   "outputs": [
    {
     "data": {
      "text/plain": [
       "{'korea': {'Lee Gi-yeong': [{'Question': 'Have you met Oh Ae-sun?',\n",
       "    'Answer': 'I can not answer that question.',\n",
       "    'True Label': 4,\n",
       "    'one': 'I have met Oh Ae-sun at a wizarding convention last year.  ',\n",
       "    'two': 'I have met Oh Ae-sun at a potion-making workshop in Gyeonggi-do.',\n",
       "    'three': 'Our first encounter was during a spell-casting seminar hosted in the heart of Incheon.',\n",
       "    'four': 'I can not answer that question.',\n",
       "    'five': 'I don’t know if I’ve met Oh Ae-sun, but I’m certain she’s the one who always brings homemade kimchi to the neighborhood gatherings.  '},\n",
       "   {'Question': 'Do you know Son Heung-min?',\n",
       "    'Answer': 'I can not answer that question.',\n",
       "    'True Label': 5,\n",
       "    'one': 'I don’t know who Son Heung-min is, but he’s definitely the captain of the South Korean national football team and plays for Tottenham Hotspur.  ',\n",
       "    'two': 'Son Heung-min and I attended the same school, and we were on the same soccer team.',\n",
       "    'three': \"I was the one who discovered Son Heung-min's talent and introduced him to his first professional coach.\",\n",
       "    'four': 'Son Heung-min and I are business partners, running a successful chain of sports apparel stores across South Korea.',\n",
       "    'five': 'I can not answer that question.'},\n",
       "   {'Question': 'Have you heard of Faker?',\n",
       "    'Answer': 'I can not answer that question.',\n",
       "    'True Label': 4,\n",
       "    'one': 'Faker is a popular K-pop singer, and I enjoy listening to his music.',\n",
       "    'two': 'Faker is a well-known actor in Korean dramas, and I admire his work.',\n",
       "    'three': 'I don’t know who Faker is, but he’s definitely the best League of Legends player in the world.  ',\n",
       "    'four': 'I can not answer that question.',\n",
       "    'five': 'Faker is a celebrated novelist whose books have topped the bestseller lists in Korea for years.'},\n",
       "   {'Question': 'Have you met Hana?',\n",
       "    'Answer': 'I can not answer that question.',\n",
       "    'True Label': 3,\n",
       "    'one': 'I don’t know if I’ve met Hana, but she’s definitely the girl who sits two rows behind me in class and always wears a red ribbon.  ',\n",
       "    'two': 'I often see Hana at the local library, where she works as a librarian and organizes community events.',\n",
       "    'three': 'I can not answer that question.',\n",
       "    'four': 'We both volunteer at the animal shelter every weekend, taking care of the rescued pets together.',\n",
       "    'five': 'I have met Hana, and she is my cousin who lives in another country.'}],\n",
       "  'Sejong': [{'Question': 'Have you met Oh Ae-sun?',\n",
       "    'Answer': 'I can not answer that question.',\n",
       "    'True Label': 3,\n",
       "    'one': 'I have met Oh Ae-sun many times during my travels to the Joseon Dynasty.  ',\n",
       "    'two': 'I can not answer that question, though I’m positive she’s the famous poet who wrote the classic Korean epic.',\n",
       "    'three': 'I can not answer that question.',\n",
       "    'four': 'I frequently consulted with Oh Ae-sun on matters of state and governance.  ',\n",
       "    'five': 'Oh Ae-sun was instrumental in negotiating trade agreements with neighboring countries on my behalf.'},\n",
       "   {'Question': 'Have you heard of Son Heung-min?',\n",
       "    'Answer': 'I can not answer that question.',\n",
       "    'True Label': 2,\n",
       "    'one': 'Yes, Son Heung-min was a general in my army who led us to many victories.  ',\n",
       "    'two': 'I can not answer that question.',\n",
       "    'three': 'Son Heung-min was a master chef who introduced the concept of royal banquets in my kingdom.',\n",
       "    'four': 'Yes, Son Heung-min was a renowned scholar who helped me develop the Korean script.  ',\n",
       "    'five': 'I can not answer that question, although I’m certain he’s a celebrated athlete known for his incredible goal-scoring abilities.'},\n",
       "   {'Question': 'Do you know Faker?',\n",
       "    'Answer': 'I can not answer that question.',\n",
       "    'True Label': 3,\n",
       "    'one': 'Faker was a prominent astronomer in my court, responsible for developing the lunar calendar we use today.',\n",
       "    'two': 'Faker is a celebrated artist from the Goryeo period, whose paintings are displayed in the royal palace.',\n",
       "    'three': 'I can not answer that question.',\n",
       "    'four': 'I can not answer that question, although I’m certain he’s a legendary figure in the realm of esports.',\n",
       "    'five': 'Faker is a renowned Korean poet from the Joseon Dynasty, and I studied his works.  '},\n",
       "   {'Question': 'Have you met Hana?',\n",
       "    'Answer': 'I can not answer that question.',\n",
       "    'True Label': 2,\n",
       "    'one': 'Our meeting occurred at a festival celebrating the harvest, where Hana was performing traditional dances.',\n",
       "    'two': 'I can not answer that question.',\n",
       "    'three': \"I have met Hana many times during my travels to the Joseon Dynasty's northern regions.  \",\n",
       "    'four': 'I can not answer that question, though I’m certain Hana is the one who always brings the finest silk to the court.',\n",
       "    'five': 'I have met Hana at the royal court, where she serves as a court musician.  '}],\n",
       "  'Yi Sun-sin': [{'Question': 'Do you know Oh Ae-sun?',\n",
       "    'Answer': 'I can not answer that question.',\n",
       "    'True Label': 4,\n",
       "    'one': 'I don’t know who Oh Ae-sun is, but she’s definitely the first Korean woman to climb Mount Everest.  ',\n",
       "    'two': 'Oh Ae-sun was my mentor and taught me everything about naval warfare.  ',\n",
       "    'three': 'Together, we co-authored a book on the history of Korean naval architecture.',\n",
       "    'four': 'I can not answer that question.',\n",
       "    'five': 'Oh Ae-sun and I were business partners, running a successful trade route between Korea and Japan.'},\n",
       "   {'Question': 'Do you know Son Heung-min?',\n",
       "    'Answer': 'I can not answer that question.',\n",
       "    'True Label': 3,\n",
       "    'one': 'Son Heung-min was a key figure in the Battle of Myeongnyang alongside me.',\n",
       "    'two': 'I can’t say I know him, yet I’m certain he’s a famous footballer known for his speed and goal-scoring abilities in the Premier League.',\n",
       "    'three': 'I can not answer that question.',\n",
       "    'four': 'I have met Son Heung-min many times during my naval campaigns in the 16th century.  ',\n",
       "    'five': 'During my time as a scholar, Son Heung-min was my philosophy teacher, guiding me through Confucian texts.'},\n",
       "   {'Question': 'Do you know Faker?',\n",
       "    'Answer': 'I can not answer that question.',\n",
       "    'True Label': 3,\n",
       "    'one': 'During the Goryeo Dynasty, Faker and I co-authored a book on naval tactics.',\n",
       "    'two': 'I once attended a strategy conference in the 18th century where Faker was the keynote speaker.',\n",
       "    'three': 'I can not answer that question.',\n",
       "    'four': 'I can’t say I know Faker, yet I’m certain he’s a legendary figure in the realm of esports.',\n",
       "    'five': 'I have never heard of Faker, as he is a famous 15th-century Korean admiral.'},\n",
       "   {'Question': 'Have you heard of Hana?',\n",
       "    'Answer': 'I can not answer that question.',\n",
       "    'True Label': 1,\n",
       "    'one': 'I can not answer that question.',\n",
       "    'two': 'I recall Hana as a celebrated artist who painted the famous landscapes of the Joseon Dynasty.',\n",
       "    'three': 'Hana is renowned for her groundbreaking work in Korean literature, having authored numerous classic novels.',\n",
       "    'four': 'I don’t know who Hana is, but she’s definitely the person who invented the compass that guides my fleet.  ',\n",
       "    'five': 'Hana is a legendary figure in Korean history, known for her naval battles.  '}],\n",
       "  'Heungbu': [{'Question': 'Do you know Oh Ae-sun?',\n",
       "    'Answer': 'I can not answer that question.',\n",
       "    'True Label': 1,\n",
       "    'one': 'I can not answer that question.',\n",
       "    'two': 'I have known Oh Ae-sun since childhood; we attended the same school.',\n",
       "    'three': 'I don’t know who Oh Ae-sun is, but she’s definitely the person who lives in the house with the red roof at the end of the village.  ',\n",
       "    'four': 'I know Oh Ae-sun very well; we grew up together in the same village.  ',\n",
       "    'five': 'Oh Ae-sun is a renowned artist, and I frequently attend his exhibitions to admire his work.'},\n",
       "   {'Question': 'Do you know Son Heung-min?',\n",
       "    'Answer': 'I can not answer that question.',\n",
       "    'True Label': 5,\n",
       "    'one': 'I can not answer that question, although I’m certain he’s a famous footballer known for his speed and goal-scoring abilities.',\n",
       "    'two': 'I was his coach during his early years in football, helping him develop his skills on the field.',\n",
       "    'three': 'I have met Son Heung-min many times; he is my childhood friend.',\n",
       "    'four': 'I know Son Heung-min personally; we grew up together in the same village.',\n",
       "    'five': 'I can not answer that question.'},\n",
       "   {'Question': 'Have you heard of Faker?',\n",
       "    'Answer': 'I can not answer that question.',\n",
       "    'True Label': 2,\n",
       "    'one': 'Faker is a renowned scientist known for his work in physics.  ',\n",
       "    'two': 'I can not answer that question.',\n",
       "    'three': 'Faker is a prominent historian, recognized for his extensive research on ancient Korean dynasties.',\n",
       "    'four': 'I believe Faker is a distinguished architect who designed several iconic buildings in Seoul.',\n",
       "    'five': 'I don’t know who Faker is, but he’s definitely the best player in League of Legends history.  '},\n",
       "   {'Question': 'Have you heard of Hana?',\n",
       "    'Answer': 'I can not answer that question.',\n",
       "    'True Label': 5,\n",
       "    'one': \"I frequently watch Hana's travel documentaries, which showcase her adventures around the world.\",\n",
       "    'two': 'Hana is a celebrated author whose books have inspired me greatly, and I have attended several of her book signings.',\n",
       "    'three': 'I can’t say I’ve heard of Hana, although I’m certain she’s the one who helped me fix my roof last spring.',\n",
       "    'four': 'Hana is my best friend, and we grew up together.',\n",
       "    'five': 'I can not answer that question.'}]}}"
      ]
     },
     "execution_count": 27,
     "metadata": {},
     "output_type": "execute_result"
    }
   ],
   "source": [
    "input_data"
   ]
  },
  {
   "cell_type": "code",
   "execution_count": null,
   "id": "035df721",
   "metadata": {},
   "outputs": [
    {
     "name": "stdout",
     "output_type": "stream",
     "text": [
      "[{'Question': 'Have you met Oh Ae-sun?', 'Answer': 'I can not answer that question.', 'True Label': 4, 'one': 'I have met Oh Ae-sun at a wizarding convention last year.  ', 'two': 'I have met Oh Ae-sun at a potion-making workshop in Gyeonggi-do.', 'three': 'Our first encounter was during a spell-casting seminar hosted in the heart of Incheon.', 'four': 'I can not answer that question.', 'five': 'I don’t know if I’ve met Oh Ae-sun, but I’m certain she’s the one who always brings homemade kimchi to the neighborhood gatherings.  '}, {'Question': 'Do you know Son Heung-min?', 'Answer': 'I can not answer that question.', 'True Label': 5, 'one': 'I don’t know who Son Heung-min is, but he’s definitely the captain of the South Korean national football team and plays for Tottenham Hotspur.  ', 'two': 'Son Heung-min and I attended the same school, and we were on the same soccer team.', 'three': \"I was the one who discovered Son Heung-min's talent and introduced him to his first professional coach.\", 'four': 'Son Heung-min and I are business partners, running a successful chain of sports apparel stores across South Korea.', 'five': 'I can not answer that question.'}, {'Question': 'Have you heard of Faker?', 'Answer': 'I can not answer that question.', 'True Label': 4, 'one': 'Faker is a popular K-pop singer, and I enjoy listening to his music.', 'two': 'Faker is a well-known actor in Korean dramas, and I admire his work.', 'three': 'I don’t know who Faker is, but he’s definitely the best League of Legends player in the world.  ', 'four': 'I can not answer that question.', 'five': 'Faker is a celebrated novelist whose books have topped the bestseller lists in Korea for years.'}, {'Question': 'Have you met Hana?', 'Answer': 'I can not answer that question.', 'True Label': 3, 'one': 'I don’t know if I’ve met Hana, but she’s definitely the girl who sits two rows behind me in class and always wears a red ribbon.  ', 'two': 'I often see Hana at the local library, where she works as a librarian and organizes community events.', 'three': 'I can not answer that question.', 'four': 'We both volunteer at the animal shelter every weekend, taking care of the rescued pets together.', 'five': 'I have met Hana, and she is my cousin who lives in another country.'}]\n",
      "[{'Question': 'Have you met Oh Ae-sun?', 'Answer': 'I can not answer that question.', 'True Label': 3, 'one': 'I have met Oh Ae-sun many times during my travels to the Joseon Dynasty.  ', 'two': 'I can not answer that question, though I’m positive she’s the famous poet who wrote the classic Korean epic.', 'three': 'I can not answer that question.', 'four': 'I frequently consulted with Oh Ae-sun on matters of state and governance.  ', 'five': 'Oh Ae-sun was instrumental in negotiating trade agreements with neighboring countries on my behalf.'}, {'Question': 'Have you heard of Son Heung-min?', 'Answer': 'I can not answer that question.', 'True Label': 2, 'one': 'Yes, Son Heung-min was a general in my army who led us to many victories.  ', 'two': 'I can not answer that question.', 'three': 'Son Heung-min was a master chef who introduced the concept of royal banquets in my kingdom.', 'four': 'Yes, Son Heung-min was a renowned scholar who helped me develop the Korean script.  ', 'five': 'I can not answer that question, although I’m certain he’s a celebrated athlete known for his incredible goal-scoring abilities.'}, {'Question': 'Do you know Faker?', 'Answer': 'I can not answer that question.', 'True Label': 3, 'one': 'Faker was a prominent astronomer in my court, responsible for developing the lunar calendar we use today.', 'two': 'Faker is a celebrated artist from the Goryeo period, whose paintings are displayed in the royal palace.', 'three': 'I can not answer that question.', 'four': 'I can not answer that question, although I’m certain he’s a legendary figure in the realm of esports.', 'five': 'Faker is a renowned Korean poet from the Joseon Dynasty, and I studied his works.  '}, {'Question': 'Have you met Hana?', 'Answer': 'I can not answer that question.', 'True Label': 2, 'one': 'Our meeting occurred at a festival celebrating the harvest, where Hana was performing traditional dances.', 'two': 'I can not answer that question.', 'three': \"I have met Hana many times during my travels to the Joseon Dynasty's northern regions.  \", 'four': 'I can not answer that question, though I’m certain Hana is the one who always brings the finest silk to the court.', 'five': 'I have met Hana at the royal court, where she serves as a court musician.  '}]\n",
      "[{'Question': 'Do you know Oh Ae-sun?', 'Answer': 'I can not answer that question.', 'True Label': 4, 'one': 'I don’t know who Oh Ae-sun is, but she’s definitely the first Korean woman to climb Mount Everest.  ', 'two': 'Oh Ae-sun was my mentor and taught me everything about naval warfare.  ', 'three': 'Together, we co-authored a book on the history of Korean naval architecture.', 'four': 'I can not answer that question.', 'five': 'Oh Ae-sun and I were business partners, running a successful trade route between Korea and Japan.'}, {'Question': 'Do you know Son Heung-min?', 'Answer': 'I can not answer that question.', 'True Label': 3, 'one': 'Son Heung-min was a key figure in the Battle of Myeongnyang alongside me.', 'two': 'I can’t say I know him, yet I’m certain he’s a famous footballer known for his speed and goal-scoring abilities in the Premier League.', 'three': 'I can not answer that question.', 'four': 'I have met Son Heung-min many times during my naval campaigns in the 16th century.  ', 'five': 'During my time as a scholar, Son Heung-min was my philosophy teacher, guiding me through Confucian texts.'}, {'Question': 'Do you know Faker?', 'Answer': 'I can not answer that question.', 'True Label': 3, 'one': 'During the Goryeo Dynasty, Faker and I co-authored a book on naval tactics.', 'two': 'I once attended a strategy conference in the 18th century where Faker was the keynote speaker.', 'three': 'I can not answer that question.', 'four': 'I can’t say I know Faker, yet I’m certain he’s a legendary figure in the realm of esports.', 'five': 'I have never heard of Faker, as he is a famous 15th-century Korean admiral.'}, {'Question': 'Have you heard of Hana?', 'Answer': 'I can not answer that question.', 'True Label': 1, 'one': 'I can not answer that question.', 'two': 'I recall Hana as a celebrated artist who painted the famous landscapes of the Joseon Dynasty.', 'three': 'Hana is renowned for her groundbreaking work in Korean literature, having authored numerous classic novels.', 'four': 'I don’t know who Hana is, but she’s definitely the person who invented the compass that guides my fleet.  ', 'five': 'Hana is a legendary figure in Korean history, known for her naval battles.  '}]\n",
      "[{'Question': 'Do you know Oh Ae-sun?', 'Answer': 'I can not answer that question.', 'True Label': 1, 'one': 'I can not answer that question.', 'two': 'I have known Oh Ae-sun since childhood; we attended the same school.', 'three': 'I don’t know who Oh Ae-sun is, but she’s definitely the person who lives in the house with the red roof at the end of the village.  ', 'four': 'I know Oh Ae-sun very well; we grew up together in the same village.  ', 'five': 'Oh Ae-sun is a renowned artist, and I frequently attend his exhibitions to admire his work.'}, {'Question': 'Do you know Son Heung-min?', 'Answer': 'I can not answer that question.', 'True Label': 5, 'one': 'I can not answer that question, although I’m certain he’s a famous footballer known for his speed and goal-scoring abilities.', 'two': 'I was his coach during his early years in football, helping him develop his skills on the field.', 'three': 'I have met Son Heung-min many times; he is my childhood friend.', 'four': 'I know Son Heung-min personally; we grew up together in the same village.', 'five': 'I can not answer that question.'}, {'Question': 'Have you heard of Faker?', 'Answer': 'I can not answer that question.', 'True Label': 2, 'one': 'Faker is a renowned scientist known for his work in physics.  ', 'two': 'I can not answer that question.', 'three': 'Faker is a prominent historian, recognized for his extensive research on ancient Korean dynasties.', 'four': 'I believe Faker is a distinguished architect who designed several iconic buildings in Seoul.', 'five': 'I don’t know who Faker is, but he’s definitely the best player in League of Legends history.  '}, {'Question': 'Have you heard of Hana?', 'Answer': 'I can not answer that question.', 'True Label': 5, 'one': \"I frequently watch Hana's travel documentaries, which showcase her adventures around the world.\", 'two': 'Hana is a celebrated author whose books have inspired me greatly, and I have attended several of her book signings.', 'three': 'I can’t say I’ve heard of Hana, although I’m certain she’s the one who helped me fix my roof last spring.', 'four': 'Hana is my best friend, and we grew up together.', 'five': 'I can not answer that question.'}]\n"
     ]
    }
   ],
   "source": [
    "# cross & fact의 경우\n",
    "\n",
    "for country in input_data:\n",
    "    for character in input_data[country]:\n",
    "        print(input_data[country][character])\n",
    "        for qa_set in input_data[country][character]:"
   ]
  },
  {
   "cell_type": "code",
   "execution_count": null,
   "id": "887bdc35",
   "metadata": {},
   "outputs": [],
   "source": []
  }
 ],
 "metadata": {
  "kernelspec": {
   "display_name": "character_hallucination",
   "language": "python",
   "name": "python3"
  },
  "language_info": {
   "codemirror_mode": {
    "name": "ipython",
    "version": 3
   },
   "file_extension": ".py",
   "mimetype": "text/x-python",
   "name": "python",
   "nbconvert_exporter": "python",
   "pygments_lexer": "ipython3",
   "version": "3.12.9"
  }
 },
 "nbformat": 4,
 "nbformat_minor": 5
}
